{
 "cells": [
  {
   "cell_type": "code",
   "execution_count": 2,
   "id": "b80630ed",
   "metadata": {},
   "outputs": [],
   "source": [
    "import cv2\n",
    "import pickle"
   ]
  },
  {
   "cell_type": "code",
   "execution_count": 6,
   "id": "b0bbd5cb",
   "metadata": {},
   "outputs": [
    {
     "ename": "KeyboardInterrupt",
     "evalue": "",
     "output_type": "error",
     "traceback": [
      "\u001b[1;31m---------------------------------------------------------------------------\u001b[0m",
      "\u001b[1;31mKeyboardInterrupt\u001b[0m                         Traceback (most recent call last)",
      "Input \u001b[1;32mIn [6]\u001b[0m, in \u001b[0;36m<cell line: 22>\u001b[1;34m()\u001b[0m\n\u001b[0;32m     17\u001b[0m         pickle\u001b[38;5;241m.\u001b[39mdump(poslist, f)\n\u001b[0;32m     21\u001b[0m \u001b[38;5;28;01mwhile\u001b[39;00m \u001b[38;5;28;01mTrue\u001b[39;00m:\n\u001b[1;32m---> 22\u001b[0m     img \u001b[38;5;241m=\u001b[39m \u001b[43mcv2\u001b[49m\u001b[38;5;241;43m.\u001b[39;49m\u001b[43mimread\u001b[49m\u001b[43m(\u001b[49m\u001b[38;5;124;43m'\u001b[39;49m\u001b[38;5;124;43mfiles/carParkImg.png\u001b[39;49m\u001b[38;5;124;43m'\u001b[39;49m\u001b[43m)\u001b[49m\n\u001b[0;32m     24\u001b[0m     \u001b[38;5;28;01mfor\u001b[39;00m pos \u001b[38;5;129;01min\u001b[39;00m poslist:\n\u001b[0;32m     25\u001b[0m         cv2\u001b[38;5;241m.\u001b[39mrectangle(img,pos,(pos[\u001b[38;5;241m0\u001b[39m]\u001b[38;5;241m+\u001b[39mwidth, pos[\u001b[38;5;241m1\u001b[39m]\u001b[38;5;241m+\u001b[39mheight),(\u001b[38;5;241m255\u001b[39m,\u001b[38;5;241m0\u001b[39m,\u001b[38;5;241m255\u001b[39m),\u001b[38;5;241m2\u001b[39m)\n",
      "\u001b[1;31mKeyboardInterrupt\u001b[0m: "
     ]
    }
   ],
   "source": [
    "width, height = 110,50\n",
    "try:\n",
    "    with open('CarParkPos', 'rb') as f:\n",
    "        poslist = pickle.load(f)\n",
    "except:\n",
    "    poslist = []\n",
    "\n",
    "def mouseClick(events, x,y,flags, params):\n",
    "    if events == cv2.EVENT_LBUTTONDOWN :\n",
    "        poslist.append((x,y))\n",
    "    if events == cv2.EVENT_RBUTTONDOWN :\n",
    "        for i,pos in enumerate(poslist):\n",
    "            x1,y1 = pos\n",
    "            if x1<x<x1+width and y1<y<y1+height:\n",
    "                poslist.pop(i);\n",
    "    with open('CarParkPos', 'wb') as f:\n",
    "        pickle.dump(poslist, f)\n",
    "    \n",
    "    \n",
    "    \n",
    "while True:\n",
    "    img = cv2.imread('files/carParkImg.png')\n",
    "\n",
    "    for pos in poslist:\n",
    "        cv2.rectangle(img,pos,(pos[0]+width, pos[1]+height),(255,0,255),2)\n",
    "    \n",
    "    cv2.imshow(\"image\", img)\n",
    "    cv2.setMouseCallback(\"image\", mouseClick)\n",
    "    cv2.waitKey(1)"
   ]
  },
  {
   "cell_type": "code",
   "execution_count": 7,
   "id": "e371b445",
   "metadata": {},
   "outputs": [],
   "source": [
    "cv2.destroyAllWindows()"
   ]
  },
  {
   "cell_type": "code",
   "execution_count": null,
   "id": "e7d5cb86",
   "metadata": {},
   "outputs": [],
   "source": []
  }
 ],
 "metadata": {
  "kernelspec": {
   "display_name": "Python 3 (ipykernel)",
   "language": "python",
   "name": "python3"
  },
  "language_info": {
   "codemirror_mode": {
    "name": "ipython",
    "version": 3
   },
   "file_extension": ".py",
   "mimetype": "text/x-python",
   "name": "python",
   "nbconvert_exporter": "python",
   "pygments_lexer": "ipython3",
   "version": "3.9.12"
  }
 },
 "nbformat": 4,
 "nbformat_minor": 5
}
