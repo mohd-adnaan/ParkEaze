{
 "cells": [
  {
   "cell_type": "code",
   "execution_count": 167,
   "id": "1925cb3c",
   "metadata": {},
   "outputs": [
    {
     "ename": "ModuleNotFoundError",
     "evalue": "No module named 'cvzone'",
     "output_type": "error",
     "traceback": [
      "\u001b[1;31m---------------------------------------------------------------------------\u001b[0m",
      "\u001b[1;31mModuleNotFoundError\u001b[0m                       Traceback (most recent call last)",
      "Input \u001b[1;32mIn [167]\u001b[0m, in \u001b[0;36m<cell line: 4>\u001b[1;34m()\u001b[0m\n\u001b[0;32m      2\u001b[0m \u001b[38;5;28;01mimport\u001b[39;00m \u001b[38;5;21;01mpickle\u001b[39;00m\n\u001b[0;32m      3\u001b[0m \u001b[38;5;28;01mimport\u001b[39;00m \u001b[38;5;21;01mnumpy\u001b[39;00m \u001b[38;5;28;01mas\u001b[39;00m \u001b[38;5;21;01mnp\u001b[39;00m\n\u001b[1;32m----> 4\u001b[0m \u001b[38;5;28;01mimport\u001b[39;00m \u001b[38;5;21;01mcvzone\u001b[39;00m\n",
      "\u001b[1;31mModuleNotFoundError\u001b[0m: No module named 'cvzone'"
     ]
    }
   ],
   "source": [
    "import cv2\n",
    "import pickle\n",
    "import numpy as np\n",
    "import cvzone"
   ]
  },
  {
   "cell_type": "code",
   "execution_count": null,
   "id": "af1ed2d0",
   "metadata": {
    "scrolled": true
   },
   "outputs": [],
   "source": [
    "#Video Feed\n",
    "cap = cv2.VideoCapture('files/carPark.mp4')\n",
    "\n",
    "with open('CarParkPos', 'rb') as f:\n",
    "        poslist = pickle.load(f)\n",
    "width, height = 110,50\n",
    "       \n",
    "while True:\n",
    "    success, img = cap.read()\n",
    "    imggray = cv2.cvtColor(img, cv2.COLOR_BGR2GRAY)\n",
    "    imgblur = cv2.GaussianBlur(imggray, (3,3),1)\n",
    "    imgThreshold = cv2.adaptiveThreshold(imgblur, 255, cv2.ADAPTIVE_THRESH_GAUSSIAN_C,cv2.THRESH_BINARY_INV, 25, 16)\n",
    "    imgmedian = cv2.medianBlur(imgThreshold,5)\n",
    "    kernel = np.ones((3, 3), np.uint8)\n",
    "    imgDilate = cv2.dilate(imgmedian, kernel, iterations=1)\n",
    "    \n",
    "    checkParkingSpace(imgDilate)\n",
    "    if cap.get(cv2.CAP_PROP_POS_FRAMES) == cap.get(cv2.CAP_PROP_FRAME_COUNT):\n",
    "        cap.set(cv2.CAP_PROP_POS_FRAMES,0)\n",
    "    \n",
    "    cv2.imshow(\"image\",img)\n",
    "#     cv2.imshow(\"Blurimage\", imgblur)\n",
    "#         cv2.imshow(\"imgthresh\", imgmedian)\n",
    "    cv2.waitKey(10)"
   ]
  },
  {
   "cell_type": "code",
   "execution_count": 235,
   "id": "5a8990d3",
   "metadata": {},
   "outputs": [],
   "source": [
    "def checkParkingSpace(imgpro):\n",
    "    spaceCounter = 0\n",
    "    for pos in poslist:\n",
    "        x,y = pos\n",
    "        imgcrop = imgpro[y:y+height, x:x+width]\n",
    "#         cv2.imshow(str(x), imgcrop )\n",
    "        count = cv2.countNonZero(imgcrop)\n",
    "        cv2.putText(img,str(count),(x,y+height-10),cv2.FONT_HERSHEY_PLAIN,0.7,(255, 0, 0),1 )\n",
    "        \n",
    "        if count < 1100:\n",
    "            color = (0,255,0)\n",
    "            thickness = 4\n",
    "            spaceCounter+=1\n",
    "        else:\n",
    "            color = (0,0,255)\n",
    "            thickness = 2\n",
    "        cv2.rectangle(img,pos,(pos[0]+width, pos[1]+height),color,thickness)\n",
    "        cv2.rectangle(img, (60,20), (650,80), (255, 255, 255), -1)\n",
    "\n",
    "        cv2.putText(img, f'Available: {spaceCounter}\\ {len(poslist)}', (80,70), 0, 2, (0, 255, 0), 2)\n",
    "\n"
   ]
  },
  {
   "cell_type": "code",
   "execution_count": 179,
   "id": "10cad0dd",
   "metadata": {},
   "outputs": [
    {
     "ename": "error",
     "evalue": "OpenCV(4.7.0) D:\\a\\opencv-python\\opencv-python\\opencv\\modules\\core\\src\\count_non_zero.dispatch.cpp:128: error: (-215:Assertion failed) cn == 1 in function 'cv::countNonZero'\n",
     "output_type": "error",
     "traceback": [
      "\u001b[1;31m---------------------------------------------------------------------------\u001b[0m",
      "\u001b[1;31merror\u001b[0m                                     Traceback (most recent call last)",
      "Input \u001b[1;32mIn [179]\u001b[0m, in \u001b[0;36m<cell line: 1>\u001b[1;34m()\u001b[0m\n\u001b[1;32m----> 1\u001b[0m \u001b[43mcheckParkingSpace\u001b[49m\u001b[43m(\u001b[49m\u001b[43mimg\u001b[49m\u001b[43m)\u001b[49m\n",
      "Input \u001b[1;32mIn [177]\u001b[0m, in \u001b[0;36mcheckParkingSpace\u001b[1;34m(imgpro)\u001b[0m\n\u001b[0;32m      5\u001b[0m         imgcrop \u001b[38;5;241m=\u001b[39m imgpro[y:y\u001b[38;5;241m+\u001b[39mheight, x:x\u001b[38;5;241m+\u001b[39mwidth]\n\u001b[0;32m      6\u001b[0m \u001b[38;5;66;03m#         cv2.imshow(str(x), imgcrop )\u001b[39;00m\n\u001b[1;32m----> 7\u001b[0m         count \u001b[38;5;241m=\u001b[39m \u001b[43mcv2\u001b[49m\u001b[38;5;241;43m.\u001b[39;49m\u001b[43mcountNonZero\u001b[49m\u001b[43m(\u001b[49m\u001b[43mimgcrop\u001b[49m\u001b[43m)\u001b[49m\n\u001b[0;32m      8\u001b[0m         cv2\u001b[38;5;241m.\u001b[39mputText(img,\u001b[38;5;28mstr\u001b[39m(count),(x,y\u001b[38;5;241m+\u001b[39mheight\u001b[38;5;241m-\u001b[39m\u001b[38;5;241m10\u001b[39m),cv2\u001b[38;5;241m.\u001b[39mFONT_HERSHEY_PLAIN,\u001b[38;5;241m0.7\u001b[39m,(\u001b[38;5;241m255\u001b[39m, \u001b[38;5;241m0\u001b[39m, \u001b[38;5;241m0\u001b[39m),\u001b[38;5;241m1\u001b[39m )\n\u001b[0;32m     10\u001b[0m         \u001b[38;5;28;01mif\u001b[39;00m count \u001b[38;5;241m<\u001b[39m \u001b[38;5;241m1100\u001b[39m:\n",
      "\u001b[1;31merror\u001b[0m: OpenCV(4.7.0) D:\\a\\opencv-python\\opencv-python\\opencv\\modules\\core\\src\\count_non_zero.dispatch.cpp:128: error: (-215:Assertion failed) cn == 1 in function 'cv::countNonZero'\n"
     ]
    }
   ],
   "source": []
  },
  {
   "cell_type": "code",
   "execution_count": 199,
   "id": "0be0a2e1",
   "metadata": {},
   "outputs": [],
   "source": [
    "cv2.destroyAllWindows()"
   ]
  },
  {
   "cell_type": "code",
   "execution_count": null,
   "id": "c751df39",
   "metadata": {},
   "outputs": [],
   "source": []
  }
 ],
 "metadata": {
  "kernelspec": {
   "display_name": "Python 3 (ipykernel)",
   "language": "python",
   "name": "python3"
  },
  "language_info": {
   "codemirror_mode": {
    "name": "ipython",
    "version": 3
   },
   "file_extension": ".py",
   "mimetype": "text/x-python",
   "name": "python",
   "nbconvert_exporter": "python",
   "pygments_lexer": "ipython3",
   "version": "3.9.12"
  }
 },
 "nbformat": 4,
 "nbformat_minor": 5
}
